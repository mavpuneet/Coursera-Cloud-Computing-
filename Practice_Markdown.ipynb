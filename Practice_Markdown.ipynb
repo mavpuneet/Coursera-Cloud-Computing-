{
  "nbformat": 4,
  "nbformat_minor": 0,
  "metadata": {
    "kernelspec": {
      "display_name": "Python 3",
      "language": "python",
      "name": "python3"
    },
    "language_info": {
      "codemirror_mode": {
        "name": "ipython",
        "version": 3
      },
      "file_extension": ".py",
      "mimetype": "text/x-python",
      "name": "python",
      "nbconvert_exporter": "python",
      "pygments_lexer": "ipython3",
      "version": "3.7.6"
    },
    "colab": {
      "name": "Practice-Markdown.ipynb",
      "provenance": [],
      "include_colab_link": true
    }
  },
  "cells": [
    {
      "cell_type": "markdown",
      "metadata": {
        "id": "view-in-github",
        "colab_type": "text"
      },
      "source": [
        "<a href=\"https://colab.research.google.com/github/mavpuneet/Coursera-Cloud-Computing-/blob/main/Practice_Markdown.ipynb\" target=\"_parent\"><img src=\"https://colab.research.google.com/assets/colab-badge.svg\" alt=\"Open In Colab\"/></a>"
      ]
    },
    {
      "cell_type": "markdown",
      "metadata": {
        "id": "cpAXgVUi2Nes"
      },
      "source": [
        "## Practice Markdown"
      ]
    },
    {
      "cell_type": "markdown",
      "metadata": {
        "id": "qZEo-X-M2New"
      },
      "source": [
        "This notebook lets you experiment with producing repeatable technical documentation.  Use this notebook to do the following actions:\n",
        "\n",
        "* Create a code cell and print a Python Hello World statement:  `print(\"hello world\")`\n",
        "* Create a Markdown Cell and add a Title using `#` and then a statement using plain text.  You can looks at the source code for this cell to get an idea of how to use Markdown.\n",
        "* Take some ideas from the [Master Markdown Github Guide](https://guides.github.com/features/mastering-markdown/) and implement them here.\n",
        "* Download this notebook as a `.ipynb` file and check into a Github Project.  You can [see an example here](https://github.com/noahgift/duke-coursera-ccf-lab1/blob/main/Practice-Markdown.ipynb).\n",
        "* Open your notebook in Google Colab and save it into the same Github Project.  You can [see an example here](https://github.com/noahgift/duke-coursera-ccf-lab1/blob/main/Practice_Markdown_with_colab.ipynb).\n"
      ]
    },
    {
      "cell_type": "markdown",
      "metadata": {
        "id": "ua8WbcGa2Nex"
      },
      "source": [
        "# Title  \n",
        "\n",
        "## Implementin ideas from [Markdown Github Guide](https://guides.github.com/features/mastering-markdown/)\n",
        "\n",
        "### Bold Idea \n",
        "**making it bold**\n",
        "__another way to make it bold__\n",
        "\n",
        "### Italic Idea\n",
        "*making it italic*\n",
        "_another way to make it italic_\n",
        "\n",
        "### Bullets\n",
        "* Bullet 1 \n",
        "* Bullet 2\n",
        "    * Sub bullet 2a \n",
        "    \n",
        "### Numbered Items \n",
        "1. Item 1\n",
        "1. Item 2\n",
        "    1. Sub item 2.1\n",
        "    \n",
        "### Images \n",
        "\n",
        "**Screenshot while working the assingment**\n",
        "\n",
        "\n",
        "### Links \n",
        "I already tried those \n",
        "\n",
        "### Blockquotes \n",
        "\n",
        "> Intellectual humility is key to Effective \n",
        "> Critical Thinking \n",
        "\n",
        "### Tables\n",
        "\n",
        "First Header | Second Header | Third Header\n",
        "-------------|---------------|--------------\n",
        "Item 1 | Item 1 for 2nd column | Random item\n",
        "\n",
        "### Strikehthorugh\n",
        "Let strike this ~~text~~"
      ]
    },
    {
      "cell_type": "code",
      "metadata": {
        "id": "VAHhBIQz2Nez",
        "colab": {
          "base_uri": "https://localhost:8080/"
        },
        "outputId": "79f975b4-cd9c-45a8-efed-0f9e864e1e88"
      },
      "source": [
        "def HelloWorld():\n",
        "    print (\"hello world\")\n",
        "HelloWorld()"
      ],
      "execution_count": 1,
      "outputs": [
        {
          "output_type": "stream",
          "name": "stdout",
          "text": [
            "hello world\n"
          ]
        }
      ]
    }
  ]
}